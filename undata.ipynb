{
 "cells": [
  {
   "cell_type": "markdown",
   "id": "467e5822-5c96-4cd7-9cfe-00b6e3c93311",
   "metadata": {},
   "source": [
    "# UN Data API Request Example\n",
    " This Jupyter notebook demonstrates how to make a request to the UN Data API and save the response as a CSV file.\n",
    "\n",
    "---\n",
    "\n",
    "\n"
   ]
  },
  {
   "cell_type": "markdown",
   "id": "b9ea6538-7746-45c1-878b-8c89baf487dd",
   "metadata": {},
   "source": [
    "\n",
    "UNData provides two options to query data from the UNData API: the REST API and the SOAP web service.\n",
    "\n",
    "In any of these cases it is recommended that you get familiarized with the main **[SDMX](https://stat.gov.ua/en/sdmx-api)** artifacts such as DataFlow, Codelist, Agency, Structure, etc.\n",
    "\n",
    "In our case, we will use the REST API."
   ]
  },
  {
   "cell_type": "markdown",
   "id": "69160f40-31b4-4bff-a322-7cb6b639fadb",
   "metadata": {},
   "source": [
    "# Prerequisites\n",
    "\n",
    "we need to use necessary libraries **[requests](https://pypi.org/project/requests/)**  and **[Pandas](https://pypi.org/project/pandas/)**\n",
    "----\n",
    "     pip install requests\n",
    "     pip install pandas"
   ]
  },
  {
   "cell_type": "markdown",
   "id": "14f8fc50-5fc9-41e5-9854-4fd124faea1f",
   "metadata": {},
   "source": [
    "### We can make use of SDMX Browser in helping us to write a query\n",
    "\n",
    "* https://data.un.org/SDMXBrowser/start"
   ]
  },
  {
   "cell_type": "code",
   "execution_count": null,
   "id": "5dcffde0-7ef9-408a-969b-32ec9f186af6",
   "metadata": {},
   "outputs": [],
   "source": [
    "## Import Libraries\n",
    "import requests\n",
    "import pandas as pd "
   ]
  },
  {
   "cell_type": "code",
   "execution_count": 4,
   "id": "6f839e42-c4b7-4618-bcf1-dcb09b96735e",
   "metadata": {},
   "outputs": [
    {
     "name": "stdout",
     "output_type": "stream",
     "text": [
      "CSV data saved to 'undata01.csv'\n",
      "Error: 200 - DATAFLOW,REF_AREA,COMMODITY,TRANSACTION,UNIT,TIME_PERIOD,OBS_VALUE,ESTIMATE,FOOTNOTES,UNIT_MULT\n",
      "UNSD:DF_UNData_EnergyBalance(1.0),012,B03_OP,B02_03,HSO,1991,15855,Y,,0\n",
      "UNSD:DF_UNData_EnergyBalance(1.0),012,B03_OP,B02_03,HSO,1992,19104,Y,,0\n",
      "UNSD:DF_UNData_EnergyBalance(1.0),012,B03_OP,B02_03,HSO,1993,11488.9,N,,0\n",
      "UNSD:DF_UNData_EnergyBalance(1.0),012,B03_OP,B02_03,HSO,1994,9153.1,N,,0\n",
      "UNSD:DF_UNData_EnergyBalance(1.0),012,B03_OP,B02_03,HSO,1995,8991.9,N,,0\n",
      "UNSD:DF_UNData_EnergyBalance(1.0),012,B03_OP,B02_03,HSO,1996,8671.1,N,,0\n",
      "UNSD:DF_UNData_EnergyBalance(1.0),012,B03_OP,B02_03,HSO,1997,6412.5,N,,0\n",
      "UNSD:DF_UNData_EnergyBalance(1.0),012,B03_OP,B02_03,HSO,1998,7863.1,N,,0\n",
      "UNSD:DF_UNData_EnergyBalance(1.0),012,B03_OP,B02_03,HSO,1999,3537.6,Y,,0\n",
      "UNSD:DF_UNData_EnergyBalance(1.0),012,B03_OP,B02_03,HSO,2000,361.8,N,,0\n",
      "UNSD:DF_UNData_EnergyBalance(1.0),012,B03_OP,B02_03,HSO,2001,4522.2,N,,0\n",
      "UNSD:DF_UNData_EnergyBalance(1.0),012,B03_OP,B02_03,HSO,2002,6209.8,N,,0\n",
      "UNSD:DF_UNData_EnergyBalance(1.0),012,B03_OP,B02_03,HSO,2003,9197,N,,0\n",
      "UNSD:DF_UNData_EnergyBalance(1.0),012,B03_OP,B02_03,HSO,2004,15162,N,,0\n",
      "UNSD:DF_UNData_EnergyBalance(1.0),012,B03_OP,B02_03,HSO,2005,17098.6,N,,0\n",
      "UNSD:DF_UNData_EnergyBalance(1.0),012,B03_OP,B02_03,HSO,2006,17738.6,N,,0\n",
      "UNSD:DF_UNData_EnergyBalance(1.0),012,B03_OP,B02_03,HSO,2007,21671,N,,0\n",
      "UNSD:DF_UNData_EnergyBalance(1.0),012,B03_OP,B02_03,HSO,2008,27500,N,,0\n",
      "UNSD:DF_UNData_EnergyBalance(1.0),012,B03_OP,B02_03,HSO,2009,54999.5,N,,0\n",
      "UNSD:DF_UNData_EnergyBalance(1.0),012,B03_OP,B02_03,HSO,2010,40947.6,N,,0\n",
      "UNSD:DF_UNData_EnergyBalance(1.0),012,B03_OP,B02_03,HSO,2011,90125.1,N,,0\n",
      "UNSD:DF_UNData_EnergyBalance(1.0),012,B03_OP,B02_03,HSO,2012,193113.9,N,,0\n",
      "UNSD:DF_UNData_EnergyBalance(1.0),012,B03_OP,B02_03,HSO,2013,225377,N,,0\n",
      "UNSD:DF_UNData_EnergyBalance(1.0),012,B03_OP,B02_03,HSO,2014,130852.3,N,,0\n",
      "UNSD:DF_UNData_EnergyBalance(1.0),012,B03_OP,B02_03,HSO,2015,169131.3,N,,0\n",
      "UNSD:DF_UNData_EnergyBalance(1.0),012,B03_OP,B02_03,HSO,2016,154341.8,N,,0\n",
      "UNSD:DF_UNData_EnergyBalance(1.0),012,B03_OP,B02_03,HSO,2017,149135.4,N,,0\n",
      "UNSD:DF_UNData_EnergyBalance(1.0),012,B03_OP,B02_03,HSO,2018,34996.2,N,,0\n",
      "UNSD:DF_UNData_EnergyBalance(1.0),012,B03_OP,B02_03,HSO,2019,82924.4122,N,,0\n",
      "UNSD:DF_UNData_EnergyBalance(1.0),012,B03_OP,B02_03,HSO,2020,45417.0292,N,,0\n",
      "UNSD:DF_UNData_EnergyBalance(1.0),012,B03_OP,B02_03,HSO,2021,207.1506,N,,0\n",
      "\n"
     ]
    }
   ],
   "source": [
    "# Define API endpoint and parameters\n",
    "url = \"https://data.un.org/ws/rest/data/UNSD,DF_UNData_EnergyBalance,1.0/012.B03_OP.B02_03./ALL/\"\n",
    "params = {\n",
    "    'detail': 'full',\n",
    "    'startPeriod': '1990-01-01',\n",
    "    'endPeriod': '2021-12-31',\n",
    "    'dimensionAtObservation': 'TIME_PERIOD'\n",
    "}\n",
    "headers = {\n",
    "    'Accept': 'text/csv'\n",
    "}\n",
    "\n",
    "# Make a GET request to the API\n",
    "response = requests.get(url, params=params, headers=headers)\n",
    "\n",
    "# Extract CSV data from the response\n",
    "csv_data = response.text\n",
    "    \n",
    "# Save CSV data to a file\n",
    "with open('undata01.csv', 'w', encoding='utf-8') as file:\n",
    "        file.write(csv_data)\n",
    "        \n",
    "print(\"CSV data saved to 'undata01.csv'\")\n",
    "\n",
    "print(f\"Error: {response.status_code} - {response.text}\")"
   ]
  },
  {
   "cell_type": "code",
   "execution_count": null,
   "id": "4199d0e6-5bf0-40c7-8175-47c279e90f6d",
   "metadata": {},
   "outputs": [],
   "source": []
  }
 ],
 "metadata": {
  "kernelspec": {
   "display_name": "Python 3 (ipykernel)",
   "language": "python",
   "name": "python3"
  },
  "language_info": {
   "codemirror_mode": {
    "name": "ipython",
    "version": 3
   },
   "file_extension": ".py",
   "mimetype": "text/x-python",
   "name": "python",
   "nbconvert_exporter": "python",
   "pygments_lexer": "ipython3",
   "version": "3.11.4"
  },
  "widgets": {
   "application/vnd.jupyter.widget-state+json": {
    "state": {},
    "version_major": 2,
    "version_minor": 0
   }
  }
 },
 "nbformat": 4,
 "nbformat_minor": 5
}
